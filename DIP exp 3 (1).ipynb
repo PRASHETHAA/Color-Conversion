{
 "cells": [
  {
   "cell_type": "code",
   "execution_count": null,
   "id": "f72c2232",
   "metadata": {},
   "outputs": [],
   "source": [
    "import cv2\n",
    "color_image = cv2.imread('nature.jpg')\n",
    "cv2.imshow('Original image',color_image)\n",
    "hsv_image = cv2.cvtColor(color_image, cv2.COLOR_BGR2HSV)\n",
    "cv2.imshow('BGR2HSV' ,hsv_image )\n",
    "gray_image1 = cv2.cvtColor (color_image, cv2.COLOR_RGB2GRAY)\n",
    "cv2.imshow('RGB2GRAY', gray_image1)\n",
    "cv2.waitKey(0)\n",
    "cv2. destroyAllWindows()"
   ]
  },
  {
   "cell_type": "code",
   "execution_count": null,
   "id": "9d80669c",
   "metadata": {},
   "outputs": [],
   "source": [
    "import cv2\n",
    "color_image = cv2.imread('nature.jpg')\n",
    "cv2.imshow('Original image', color_image)\n",
    "hsv_image = cv2.cvtColor(color_image, cv2.COLOR_HSV2RGB)\n",
    "cv2.imshow('HSV2RGB' ,hsv_image )\n",
    "gray_image1 = cv2.cvtColor (color_image, cv2.COLOR_HSV2BGR)\n",
    "cv2.imshow('HSV2BGR', gray_image1)\n",
    "cv2.waitKey(0)\n",
    "cv2. destroyAllWindows()"
   ]
  },
  {
   "cell_type": "code",
   "execution_count": null,
   "id": "d913fb8b",
   "metadata": {},
   "outputs": [],
   "source": [
    "import cv2\n",
    "color_image = cv2.imread('nature.jpg')\n",
    "cv2.imshow('Original image',color_image)\n",
    "gray_image1 = cv2.cvtColor (color_image, cv2.COLOR_RGB2YCrCb)\n",
    "cv2.imshow('RGB2YCrCb', gray_image1)\n",
    "gray_image1 = cv2.cvtColor (color_image, cv2.COLOR_BGR2YCrCb)\n",
    "cv2.imshow('BGR2YCrCb', gray_image1)\n",
    "cv2.waitKey(0)\n",
    "cv2. destroyAllWindows()"
   ]
  },
  {
   "cell_type": "code",
   "execution_count": null,
   "id": "fc69d7ab",
   "metadata": {},
   "outputs": [],
   "source": [
    "import cv2\n",
    "image = cv2.imread('nature.jpg')\n",
    "blue=image[:,:,0]\n",
    "green=image[:,:,1]\n",
    "red=image[:,:,2]\n",
    "cv2.imshow('B-Channel',blue)\n",
    "cv2.imshow('G-Channel',green)\n",
    "cv2.imshow('R-Channel',red)\n",
    "Merged_BGR=cv2.merge((blue,green,red))\n",
    "cv2.imshow('Merged BGR Image',Merged_BGR)\n",
    "cv2.waitKey(0)\n",
    "cv2.destoryAllWindows()"
   ]
  },
  {
   "cell_type": "code",
   "execution_count": null,
   "id": "63070c6b",
   "metadata": {},
   "outputs": [],
   "source": [
    "import cv2\n",
    "image = cv2.imread('nature.jpg')\n",
    "hsv = cv2.cvtColor(image, cv2.COLOR_BGR2HSV)\n",
    "h,s,v = cv2.split(hsv)\n",
    "cv2.imshow('Hue-Image',h)\n",
    "cv2.imshow('Saturation-Image',s)\n",
    "cv2.imshow('Gray-Image',v)\n",
    "Merged_HSV = cv2.merge((h,s,v))\n",
    "cv2.imshow('Merged HSV Image',Merged_HSV)\n",
    "cv2.waitKey(0)\n",
    "cv2.destoryAllWindows()\n"
   ]
  },
  {
   "cell_type": "code",
   "execution_count": null,
   "id": "2b16f1be",
   "metadata": {},
   "outputs": [],
   "source": []
  }
 ],
 "metadata": {
  "kernelspec": {
   "display_name": "Python 3 (ipykernel)",
   "language": "python",
   "name": "python3"
  },
  "language_info": {
   "codemirror_mode": {
    "name": "ipython",
    "version": 3
   },
   "file_extension": ".py",
   "mimetype": "text/x-python",
   "name": "python",
   "nbconvert_exporter": "python",
   "pygments_lexer": "ipython3",
   "version": "3.9.7"
  }
 },
 "nbformat": 4,
 "nbformat_minor": 5
}
